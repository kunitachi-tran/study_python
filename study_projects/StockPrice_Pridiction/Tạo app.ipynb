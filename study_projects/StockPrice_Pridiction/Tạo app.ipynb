{
 "cells": [
  {
   "cell_type": "markdown",
   "metadata": {},
   "source": [
    "#Xây dựng website dự đoán giá của Cổ phiếu bằng Python\n",
    "\n",
    "##Yêu cầu##\n",
    "Cài đặt các thư viện dưới bằng lệnh pip install xxxx\n",
    "- Cython (là thư viện cần thiết để build thư viện streamlit, fbprophet)\n",
    "- streamlit: là một framework mã nguồn mở được thiết kế để tạo và chia sẻ ứng dụng web dựa trên Python một cách nhanh chóng và dễ dàng. Với Streamlit, người dùng có thể tạo các ứng dụng web tương tác mà không cần có kiến thức về HTML, CSS hoặc JavaScript.\n",
    "- fbprophet/prophet: là một thư viện mã nguồn mở được phát triển bởi Facebook để dự đoán chuỗi dữ liệu thời gian một cách dễ dàng và mạnh mẽ.\n",
    "- plotly: là một thư viện mã nguồn mở và một công ty phần mềm cung cấp các công cụ để tạo các biểu đồ tương tác và đồ thị trực quan trong Python và các ngôn ngữ lập trình khác. "
   ]
  },
  {
   "cell_type": "code",
   "execution_count": null,
   "metadata": {},
   "outputs": [],
   "source": []
  }
 ],
 "metadata": {
  "language_info": {
   "name": "python"
  }
 },
 "nbformat": 4,
 "nbformat_minor": 2
}
