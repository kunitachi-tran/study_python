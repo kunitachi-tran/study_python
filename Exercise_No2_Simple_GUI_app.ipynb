{
  "nbformat": 4,
  "nbformat_minor": 0,
  "metadata": {
    "colab": {
      "provenance": []
    },
    "kernelspec": {
      "name": "python3",
      "display_name": "Python 3"
    },
    "language_info": {
      "name": "python"
    }
  },
  "cells": [
    {
      "cell_type": "markdown",
      "source": [
        "#Exercise No2: Simple GUI app\n",
        "Convert Mile to Km"
      ],
      "metadata": {
        "id": "HCavg-1u8WK8"
      }
    },
    {
      "cell_type": "code",
      "source": [
        "#Import tkinter and messagebox\n",
        "import tkinter as tk\n",
        "from tkinter import messagebox as msg"
      ],
      "metadata": {
        "id": "uRPKlWdyUWgl"
      },
      "execution_count": 1,
      "outputs": []
    },
    {
      "cell_type": "code",
      "execution_count": null,
      "metadata": {
        "id": "lVIqvB0y8MX2"
      },
      "outputs": [],
      "source": [
        "#Create screen\n",
        "window = tk.Tk()\n",
        "window.title(\"Mile to Km Converter\")\n",
        "window.minsize(width=200,height=100)\n",
        "#Create emtpy label\n",
        "emtpy_label = tk.Label()\n",
        "emtpy_label.config(text=\"\")\n",
        "emtpy_label.grid(column=1, row=1)\n",
        "\n",
        "#Create text box\n",
        "def on_validate(text):\n",
        "    if text.isdigit() or text==\".\" or text == \"\":\n",
        "        return True\n",
        "    else:\n",
        "        return False\n",
        "\n",
        "# Validation function to restrict input to numbers\n",
        "validate_cmd = window.register(on_validate)\n",
        "\n",
        "input = tk.Entry(window, validate=\"key\", validatecommand=(validate_cmd,\"%P\"), width=10)\n",
        "input.grid(column=3,row=3)\n",
        "\n",
        "#Create label1\n",
        "mile_label = tk.Label()\n",
        "mile_label.config(text=\"Miles\")\n",
        "mile_label.grid(column=4, row=3)\n",
        "\n",
        "#Create label2\n",
        "km_label1 = tk.Label()\n",
        "km_label1.config(text=\"is equal to\")\n",
        "km_label1.grid(column=1, row=4)\n",
        "\n",
        "#Create label3\n",
        "km_label2 = tk.Label()\n",
        "km_label2.config(text=\"0\")\n",
        "km_label2.grid(column=3, row=4)\n",
        "\n",
        "#Create label4\n",
        "km_label3 = tk.Label()\n",
        "km_label3.config(text=\"Km\")\n",
        "km_label3.grid(column=4, row=4)\n",
        "\n",
        "#Create button\n",
        "def calculate_button_click():\n",
        "    mile = input.get().strip()\n",
        "    if mile == \"\":\n",
        "        msg.showwarning(\"Warning\", message=\"Please input number of miles!\")\n",
        "        return\n",
        "    else:\n",
        "        km_label2[\"text\"] = str(round(float(mile)*1.6, 2))\n",
        "\n",
        "button = tk.Button(text=\"Calculate\", command=calculate_button_click)\n",
        "button.grid(column=3, row=5)\n",
        "\n",
        "window.mainloop()"
      ]
    }
  ]
}