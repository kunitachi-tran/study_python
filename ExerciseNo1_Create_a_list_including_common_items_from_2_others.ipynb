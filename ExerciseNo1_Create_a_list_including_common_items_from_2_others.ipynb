{
  "nbformat": 4,
  "nbformat_minor": 0,
  "metadata": {
    "colab": {
      "provenance": []
    },
    "kernelspec": {
      "name": "python3",
      "display_name": "Python 3"
    },
    "language_info": {
      "name": "python"
    }
  },
  "cells": [
    {
      "cell_type": "markdown",
      "source": [
        "#Execise No1: Create a list including common items from 2 others"
      ],
      "metadata": {
        "id": "NMEE3TzbuB45"
      }
    },
    {
      "cell_type": "markdown",
      "source": [
        "There are 2 ways to do this exercise"
      ],
      "metadata": {
        "id": "DvNe7N0IuKxa"
      }
    },
    {
      "cell_type": "code",
      "execution_count": 1,
      "metadata": {
        "id": "roXpMUSytxO2"
      },
      "outputs": [],
      "source": [
        "#initiate\n",
        "list1 = [1, 2, 5, 3, 10]\n",
        "list2 = [9, 4, 2, 5, 11, 200]"
      ]
    },
    {
      "cell_type": "code",
      "source": [
        "#Way1:\n",
        "list3 = [n for n in list1 if n in list2]\n",
        "print(list1)\n",
        "print(list2)\n",
        "print(list3)"
      ],
      "metadata": {
        "colab": {
          "base_uri": "https://localhost:8080/"
        },
        "id": "SN_6iUP0ud5D",
        "outputId": "061edf6d-c528-48e1-ce60-1b643c5e7e0b"
      },
      "execution_count": 2,
      "outputs": [
        {
          "output_type": "stream",
          "name": "stdout",
          "text": [
            "[1, 2, 5, 3, 10]\n",
            "[9, 4, 2, 5, 11, 200]\n",
            "[2, 5]\n"
          ]
        }
      ]
    },
    {
      "cell_type": "code",
      "source": [
        "#Way2\n",
        "set1 = set(list1)\n",
        "set2 = set(list2)\n",
        "set3 = set1.intersection(set2)\n",
        "list4 = list(set3)\n",
        "print(list4)"
      ],
      "metadata": {
        "colab": {
          "base_uri": "https://localhost:8080/"
        },
        "id": "IzaLTtkRumHs",
        "outputId": "7bfc2725-63f3-4b93-d749-be599b8b72ab"
      },
      "execution_count": 3,
      "outputs": [
        {
          "output_type": "stream",
          "name": "stdout",
          "text": [
            "[2, 5]\n"
          ]
        }
      ]
    },
    {
      "cell_type": "code",
      "source": [
        "#Check list3 and list4 are the same or not?\n",
        "if list3 == list4:\n",
        "  print(\"OK. List3 and List4 are the same!\")\n",
        "else:\n",
        "  print(\"NG. List3 and List4 are NOT the same!\")"
      ],
      "metadata": {
        "colab": {
          "base_uri": "https://localhost:8080/"
        },
        "id": "LyJGI28yu3g1",
        "outputId": "1623e506-1bf0-4d95-fe56-bc3e3f3e2320"
      },
      "execution_count": 4,
      "outputs": [
        {
          "output_type": "stream",
          "name": "stdout",
          "text": [
            "OK. List3 and List4 are the same!\n"
          ]
        }
      ]
    }
  ]
}